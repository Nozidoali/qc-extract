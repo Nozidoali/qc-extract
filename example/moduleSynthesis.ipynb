{
 "cells": [
  {
   "cell_type": "code",
   "execution_count": null,
   "id": "e0000868",
   "metadata": {},
   "outputs": [],
   "source": [
    "import json\n",
    "\n",
    "from config import *\n",
    "from logicNetwork import LogicNetwork\n",
    "from circuitExtract import xor_block_grouping, post_process\n",
    "from visualization import plot_circuit, plot_network\n",
    "\n",
    "if __name__ == \"__main__\":\n",
    "    for name, verilog_in, circuit_out, json_out in BMARKS:\n",
    "        ntk = LogicNetwork.from_verilog(open(verilog_in).read())\n",
    "        circuit = xor_block_grouping(ntk)\n",
    "        circuit = post_process(circuit, run_zx=True)\n",
    "        plot_network(ntk, file_name=f\"{name}_network.png\")\n",
    "        plot_circuit(circuit, file_name=f\"{name}_circuit.png\")\n",
    "        # circuit = extract(ntk)\n",
    "        open(circuit_out, \"w\").write(json.dumps(circuit.to_json(), indent=4))\n",
    "        datas = {\"name\": name, \"n_ands\": ntk.n_ands, \"n_t\": circuit.num_t, \"n_qubits\": circuit.n_qubits}\n",
    "        open(json_out, \"w\").write(json.dumps(datas, indent=4))\n",
    "        print(datas)"
   ]
  },
  {
   "cell_type": "code",
   "execution_count": null,
   "id": "6f38e395",
   "metadata": {},
   "outputs": [],
   "source": []
  }
 ],
 "metadata": {
  "kernelspec": {
   "display_name": "zx",
   "language": "python",
   "name": "python3"
  },
  "language_info": {
   "name": "python",
   "version": "3.11.9"
  }
 },
 "nbformat": 4,
 "nbformat_minor": 5
}

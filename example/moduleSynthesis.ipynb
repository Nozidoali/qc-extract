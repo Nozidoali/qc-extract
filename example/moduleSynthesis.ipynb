{
 "cells": [
  {
   "cell_type": "code",
   "execution_count": 1,
   "id": "c017e6d1",
   "metadata": {},
   "outputs": [],
   "source": [
    "import sys, pathlib\n",
    "sys.path.append(str(pathlib.Path.cwd().parent / 'src'))"
   ]
  },
  {
   "cell_type": "markdown",
   "id": "effae944",
   "metadata": {},
   "source": [
    "## Prepare the benchmarks in the data folder"
   ]
  },
  {
   "cell_type": "code",
   "execution_count": 13,
   "id": "397f9f31",
   "metadata": {},
   "outputs": [
    {
     "name": "stdout",
     "output_type": "stream",
     "text": [
      "[INFO] Found 20 benchmarks in /home/hanyu/qcs/data/input\n"
     ]
    }
   ],
   "source": [
    "from pathlib import Path\n",
    "\n",
    "CURR_DIR = Path.cwd().resolve()\n",
    "INPUT_DIR = (CURR_DIR / \"..\" / \"data\" / \"input\").resolve()\n",
    "OUTPUT_DIR = (CURR_DIR / \"..\" / \"data\" / \"output\").resolve()\n",
    "RESULT_DIR = (CURR_DIR / \"..\" / \"data\" / \"result\").resolve()\n",
    "\n",
    "def get_benchmark(_s: str) -> Path:\n",
    "    return next(f for f in INPUT_DIR.glob(\"*.v\") if _s in f.name)\n",
    "\n",
    "ALL_INPUTS = list(INPUT_DIR.glob(\"*.v\"))\n",
    "BMARKS = [(\n",
    "    f.stem,\n",
    "    f,\n",
    "    OUTPUT_DIR / f.with_suffix(\".json\").name,\n",
    "    RESULT_DIR / f.with_suffix(\".json\").name\n",
    ") for f in ALL_INPUTS]\n",
    "\n",
    "print(f\"[INFO] Found {len(BMARKS)} benchmarks in {INPUT_DIR}\")"
   ]
  },
  {
   "cell_type": "code",
   "execution_count": 14,
   "id": "e0000868",
   "metadata": {},
   "outputs": [
    {
     "name": "stdout",
     "output_type": "stream",
     "text": [
      "{'name': 'gf_mult5', 'n_ands': 25, 'n_t': 74, 'n_qubits': 12}\n",
      "{'name': 'gf_mult8', 'n_ands': 64, 'n_t': 196, 'n_qubits': 26}\n",
      "{'name': 'gf_mult6', 'n_ands': 36, 'n_t': 72, 'n_qubits': 13}\n",
      "{'name': 'gf_mult7', 'n_ands': 49, 'n_t': 124, 'n_qubits': 15}\n",
      "{'name': 'gf_mult2', 'n_ands': 4, 'n_t': 16, 'n_qubits': 8}\n",
      "{'name': 'gf_mult3', 'n_ands': 9, 'n_t': 28, 'n_qubits': 7}\n",
      "{'name': 'gf_mult9', 'n_ands': 81, 'n_t': 238, 'n_qubits': 22}\n",
      "{'name': 'gf_mult4', 'n_ands': 16, 'n_t': 32, 'n_qubits': 9}\n"
     ]
    }
   ],
   "source": [
    "import json\n",
    "\n",
    "from logicNetwork import LogicNetwork\n",
    "from circuitExtract import xor_block_grouping, post_process\n",
    "\n",
    "for name, verilog_in, circuit_out, json_out in BMARKS:\n",
    "    if not \"gf_mult\" in name:\n",
    "        continue\n",
    "    ntk = LogicNetwork.from_verilog(open(verilog_in).read())\n",
    "    circuit = xor_block_grouping(ntk)\n",
    "    circuit = post_process(circuit, run_zx=True)\n",
    "    open(circuit_out, \"w\").write(json.dumps(circuit.to_json(), indent=4))\n",
    "    datas = {\"name\": name, \"n_ands\": ntk.n_ands, \"n_t\": circuit.num_t, \"n_qubits\": circuit.n_qubits}\n",
    "    open(json_out, \"w\").write(json.dumps(datas, indent=4))\n",
    "    print(datas)"
   ]
  },
  {
   "cell_type": "code",
   "execution_count": null,
   "id": "6f38e395",
   "metadata": {},
   "outputs": [],
   "source": []
  }
 ],
 "metadata": {
  "kernelspec": {
   "display_name": "quantum",
   "language": "python",
   "name": "python3"
  },
  "language_info": {
   "codemirror_mode": {
    "name": "ipython",
    "version": 3
   },
   "file_extension": ".py",
   "mimetype": "text/x-python",
   "name": "python",
   "nbconvert_exporter": "python",
   "pygments_lexer": "ipython3",
   "version": "3.11.13"
  }
 },
 "nbformat": 4,
 "nbformat_minor": 5
}
